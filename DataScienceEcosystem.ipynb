{
 "cells": [
  {
   "cell_type": "markdown",
   "id": "4af3e11d-e440-43c8-9fe0-37e58d51b606",
   "metadata": {},
   "source": [
    "# Data Science Tools and Ecosystem"
   ]
  },
  {
   "cell_type": "markdown",
   "id": "ec470d7b-0078-4acb-a097-5448ec01c836",
   "metadata": {},
   "source": [
    "In this notebook, Data Science Tools and Ecosystem are summarized."
   ]
  },
  {
   "cell_type": "markdown",
   "id": "0dd52f3f-5696-4c75-aec2-25b960d5db10",
   "metadata": {},
   "source": [
    "**Objectives:**\n",
    "+ Data Science Libraries\n",
    "+ Data Science Languages\n",
    "+ Data Science Tools"
   ]
  },
  {
   "cell_type": "markdown",
   "id": "e120ef7a-1f6e-47d8-808a-12f9134481fe",
   "metadata": {},
   "source": [
    "Some of the popular languages that Data Scientists use are:\n",
    "+ Python\n",
    "+ R\n",
    "+ Ruby"
   ]
  },
  {
   "cell_type": "markdown",
   "id": "43f2fcb4-f885-441f-8066-3f5d149508e9",
   "metadata": {},
   "source": [
    "Some of the commonly used libraries used by Data Scientists include:\n",
    "+ TensorFlow\n",
    "+ NumPy\n",
    "+ Pandas"
   ]
  },
  {
   "cell_type": "markdown",
   "id": "6988bb6e-e0f9-459b-975b-aa82f5982993",
   "metadata": {},
   "source": [
    "| Data Science Tools |\n",
    "| ---|\n",
    "| Tensor Flow |\n",
    "| NumPy |\n",
    "| R Studio |"
   ]
  },
  {
   "cell_type": "markdown",
   "id": "b077884c-1597-4fd3-9d91-633221db7fc5",
   "metadata": {},
   "source": [
    "### Below are a few examples of evaluating arithmetic expressions in Python"
   ]
  },
  {
   "cell_type": "code",
   "execution_count": 11,
   "id": "a63e18a2-8972-4339-8206-32eb4dc02178",
   "metadata": {},
   "outputs": [
    {
     "data": {
      "text/plain": [
       "17"
      ]
     },
     "execution_count": 11,
     "metadata": {},
     "output_type": "execute_result"
    }
   ],
   "source": [
    "# This a simple arithmetic expression to mutiply then add integers\n",
    "(3*4)+5"
   ]
  },
  {
   "cell_type": "code",
   "execution_count": 13,
   "id": "563870cd-b1fd-4ebc-9d3b-9dadc90667cf",
   "metadata": {},
   "outputs": [
    {
     "data": {
      "text/plain": [
       "3.3333333333333335"
      ]
     },
     "execution_count": 13,
     "metadata": {},
     "output_type": "execute_result"
    }
   ],
   "source": [
    "# This will convert 200 minutes to hours by diving by 60\n",
    "200/60"
   ]
  },
  {
   "cell_type": "markdown",
   "id": "747c4e09-deef-4088-bb37-62db1b10bed1",
   "metadata": {},
   "source": [
    "## Author\n",
    "Christine"
   ]
  },
  {
   "cell_type": "code",
   "execution_count": null,
   "id": "e9be1061-5c20-424f-bbdd-912ef9af0e68",
   "metadata": {},
   "outputs": [],
   "source": []
  }
 ],
 "metadata": {
  "kernelspec": {
   "display_name": "anaconda-panel-2023.05-py310",
   "language": "python",
   "name": "conda-env-anaconda-panel-2023.05-py310-py"
  },
  "language_info": {
   "codemirror_mode": {
    "name": "ipython",
    "version": 3
   },
   "file_extension": ".py",
   "mimetype": "text/x-python",
   "name": "python",
   "nbconvert_exporter": "python",
   "pygments_lexer": "ipython3",
   "version": "3.11.4"
  }
 },
 "nbformat": 4,
 "nbformat_minor": 5
}
